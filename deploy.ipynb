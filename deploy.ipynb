{
 "cells": [
  {
   "cell_type": "markdown",
   "metadata": {},
   "source": [
    "# Run this code to deploy an agent"
   ]
  },
  {
   "cell_type": "code",
   "execution_count": 2,
   "metadata": {},
   "outputs": [],
   "source": [
    "import vertexai\n",
    "\n",
    "PROJECT_ID = \"virtual-nurse-450613\"\n",
    "LOCATION = \"us-central1\"\n",
    "STAGING_BUCKET = \"gs://deploy-short-bot\"\n",
    "\n",
    "vertexai.init(\n",
    "    project=PROJECT_ID,\n",
    "    location=LOCATION,\n",
    "    staging_bucket=STAGING_BUCKET,\n",
    ")\n",
    "\n",
    "from google.adk.agents import Agent\n",
    "from vertexai.preview.reasoning_engines import AdkApp\n",
    "import yfinance as yf\n",
    "\n",
    "def get_stock_price(ticker: str):\n",
    "    stock = yf.Ticker(ticker)\n",
    "    price = stock.info.get(\"currentPrice\", \"Price not available\")\n",
    "    return {\"price\": price, \"ticker\": ticker}\n",
    "\n",
    "root_agent = Agent(\n",
    "    model='gemini-2.0-flash-001',\n",
    "    name='root_agent',\n",
    "    description='A simple agent that get stock price.',\n",
    "    instruction=\"\"\"You are a stock price assistant. Always use the get_stock_price tool.\n",
    "                Include the ticker symbol in your response\"\"\",\n",
    "    tools=[get_stock_price]\n",
    ")\n",
    "\n",
    "from vertexai.preview import reasoning_engines\n",
    "\n",
    "app = reasoning_engines.AdkApp(\n",
    "    agent=root_agent,\n",
    "    enable_tracing=True,\n",
    ")\n",
    "\n",
    "session = app.create_session(user_id=\"u_123\")"
   ]
  },
  {
   "cell_type": "code",
   "execution_count": 3,
   "metadata": {},
   "outputs": [
    {
     "data": {
      "text/plain": [
       "Session(id='36e687a6-bcdb-4f8d-b125-337f293df72d', app_name='default-app-name', user_id='u_123', state={}, events=[], last_update_time=1749667124.973777)"
      ]
     },
     "execution_count": 3,
     "metadata": {},
     "output_type": "execute_result"
    }
   ],
   "source": [
    "session"
   ]
  },
  {
   "cell_type": "code",
   "execution_count": 4,
   "metadata": {},
   "outputs": [
    {
     "data": {
      "text/plain": [
       "ListSessionsResponse(sessions=[Session(id='36e687a6-bcdb-4f8d-b125-337f293df72d', app_name='default-app-name', user_id='u_123', state={}, events=[], last_update_time=1749667124.973777)])"
      ]
     },
     "execution_count": 4,
     "metadata": {},
     "output_type": "execute_result"
    }
   ],
   "source": [
    "app.list_sessions(user_id=\"u_123\")"
   ]
  },
  {
   "cell_type": "code",
   "execution_count": 7,
   "metadata": {},
   "outputs": [
    {
     "name": "stderr",
     "output_type": "stream",
     "text": [
      "Warning: there are non-text parts in the response: ['function_call'], returning concatenated text result from text parts. Check the full candidates.content.parts accessor to get the full model response.\n"
     ]
    },
    {
     "name": "stdout",
     "output_type": "stream",
     "text": [
      "{'content': {'parts': [{'function_call': {'id': 'adk-9be9aaca-45d3-4d09-908a-8ea43cc8c83f', 'args': {'ticker': 'AAPL'}, 'name': 'get_stock_price'}}], 'role': 'model'}, 'invocation_id': 'e-f9411943-7961-4dae-8f08-4b461b969c74', 'author': 'root_agent', 'actions': {'state_delta': {}, 'artifact_delta': {}, 'requested_auth_configs': {}}, 'long_running_tool_ids': set(), 'id': 'L7dD6zr1', 'timestamp': 1749667218.300309}\n",
      "{'content': {'parts': [{'function_response': {'id': 'adk-9be9aaca-45d3-4d09-908a-8ea43cc8c83f', 'name': 'get_stock_price', 'response': {'price': 199.4986, 'ticker': 'AAPL'}}}], 'role': 'user'}, 'invocation_id': 'e-f9411943-7961-4dae-8f08-4b461b969c74', 'author': 'root_agent', 'actions': {'state_delta': {}, 'artifact_delta': {}, 'requested_auth_configs': {}}, 'id': 'tBP1iTMR', 'timestamp': 1749667222.636659}\n",
      "{'content': {'parts': [{'text': 'The current stock price for Apple (AAPL) is $199.4986.\\n'}], 'role': 'model'}, 'invocation_id': 'e-f9411943-7961-4dae-8f08-4b461b969c74', 'author': 'root_agent', 'actions': {'state_delta': {}, 'artifact_delta': {}, 'requested_auth_configs': {}}, 'id': 'B6EQt9db', 'timestamp': 1749667222.63751}\n"
     ]
    }
   ],
   "source": [
    "for event in app.stream_query(\n",
    "    user_id=\"u_123\",\n",
    "    session_id=session.id,\n",
    "    message=\"whats is Apple stock price?\",\n",
    "):\n",
    "    print(event)"
   ]
  },
  {
   "cell_type": "code",
   "execution_count": 11,
   "metadata": {},
   "outputs": [
    {
     "name": "stdout",
     "output_type": "stream",
     "text": [
      "Deploying google.adk.agents.Agent as an application.\n",
      "Identified the following requirements: {'google-cloud-aiplatform': '1.94.0', 'pydantic': '2.11.5', 'cloudpickle': '3.1.1'}\n",
      "The following requirements are missing: {'pydantic', 'cloudpickle'}\n",
      "The following requirements are appended: {'cloudpickle==3.1.1', 'pydantic==2.11.5'}\n",
      "The final list of requirements: ['google-cloud-aiplatform[adk,agent_engines]', 'yfinance', 'cloudpickle==3.1.1', 'pydantic==2.11.5']\n",
      "Using bucket deploy-short-bot\n",
      "Wrote to gs://deploy-short-bot/agent_engine/agent_engine.pkl\n",
      "Writing to gs://deploy-short-bot/agent_engine/requirements.txt\n",
      "Creating in-memory tarfile of extra_packages\n",
      "Writing to gs://deploy-short-bot/agent_engine/dependencies.tar.gz\n",
      "Creating AgentEngine\n",
      "Create AgentEngine backing LRO: projects/533873564462/locations/us-central1/reasoningEngines/8914989811589185536/operations/8648178849659486208\n",
      "View progress and logs at https://console.cloud.google.com/logs/query?project=virtual-nurse-450613\n",
      "AgentEngine created. Resource name: projects/533873564462/locations/us-central1/reasoningEngines/8914989811589185536\n",
      "To use this AgentEngine in another session:\n",
      "agent_engine = vertexai.agent_engines.get('projects/533873564462/locations/us-central1/reasoningEngines/8914989811589185536')\n"
     ]
    }
   ],
   "source": [
    "from vertexai import agent_engines\n",
    "\n",
    "remote_app = agent_engines.create(\n",
    "    agent_engine=root_agent,\n",
    "    requirements=[\n",
    "        \"google-cloud-aiplatform[adk,agent_engines]\", \"yfinance\"   \n",
    "    ]\n",
    ")"
   ]
  },
  {
   "cell_type": "code",
   "execution_count": 12,
   "metadata": {},
   "outputs": [
    {
     "data": {
      "text/plain": [
       "'projects/533873564462/locations/us-central1/reasoningEngines/8914989811589185536'"
      ]
     },
     "execution_count": 12,
     "metadata": {},
     "output_type": "execute_result"
    }
   ],
   "source": [
    "remote_app.resource_name"
   ]
  },
  {
   "cell_type": "code",
   "execution_count": 13,
   "metadata": {},
   "outputs": [
    {
     "data": {
      "text/plain": [
       "{'appName': '8914989811589185536',\n",
       " 'events': [],\n",
       " 'state': {},\n",
       " 'id': '4268177145433423872',\n",
       " 'lastUpdateTime': 1749668672.336696,\n",
       " 'userId': 'u_456'}"
      ]
     },
     "execution_count": 13,
     "metadata": {},
     "output_type": "execute_result"
    }
   ],
   "source": [
    "remote_session = remote_app.create_session(user_id=\"u_456\")\n",
    "remote_session"
   ]
  },
  {
   "cell_type": "code",
   "execution_count": 14,
   "metadata": {},
   "outputs": [
    {
     "name": "stdout",
     "output_type": "stream",
     "text": [
      "{'content': {'parts': [{'function_call': {'id': 'adk-08fec5c1-aad4-4557-8daf-7f21f08aa74c', 'args': {'ticker': 'AAPL'}, 'name': 'get_stock_price'}}], 'role': 'model'}, 'usage_metadata': {'candidates_token_count': 8, 'candidates_tokens_details': [{'modality': 'TEXT', 'token_count': 8}], 'prompt_token_count': 71, 'prompt_tokens_details': [{'modality': 'TEXT', 'token_count': 71}], 'total_token_count': 79, 'traffic_type': 'ON_DEMAND'}, 'invocation_id': 'e-81911d56-2358-4092-978e-b1642e80e964', 'author': 'root_agent', 'actions': {'state_delta': {}, 'artifact_delta': {}, 'requested_auth_configs': {}}, 'long_running_tool_ids': [], 'id': 'hP4MPRXB', 'timestamp': 1749668720.760501}\n",
      "{'content': {'parts': [{'function_response': {'id': 'adk-08fec5c1-aad4-4557-8daf-7f21f08aa74c', 'name': 'get_stock_price', 'response': {'price': 198.93, 'ticker': 'AAPL'}}}], 'role': 'user'}, 'invocation_id': 'e-81911d56-2358-4092-978e-b1642e80e964', 'author': 'root_agent', 'actions': {'state_delta': {}, 'artifact_delta': {}, 'requested_auth_configs': {}}, 'id': 'HBMi4VOf', 'timestamp': 1749668723.007229}\n",
      "{'content': {'parts': [{'text': 'The price for Apple stock (AAPL) is 198.93.'}], 'role': 'model'}, 'usage_metadata': {'candidates_token_count': 18, 'candidates_tokens_details': [{'modality': 'TEXT', 'token_count': 18}], 'prompt_token_count': 89, 'prompt_tokens_details': [{'modality': 'TEXT', 'token_count': 89}], 'total_token_count': 107, 'traffic_type': 'ON_DEMAND'}, 'invocation_id': 'e-81911d56-2358-4092-978e-b1642e80e964', 'author': 'root_agent', 'actions': {'state_delta': {}, 'artifact_delta': {}, 'requested_auth_configs': {}}, 'id': 'h8J6lCIz', 'timestamp': 1749668723.174641}\n"
     ]
    }
   ],
   "source": [
    "for event in remote_app.stream_query(\n",
    "    user_id=\"u_456\",\n",
    "    session_id=remote_session[\"id\"],\n",
    "    message=\"what is Apple stock price?\",\n",
    "):\n",
    "    print(event)"
   ]
  }
 ],
 "metadata": {
  "kernelspec": {
   "display_name": "agent",
   "language": "python",
   "name": "python3"
  },
  "language_info": {
   "codemirror_mode": {
    "name": "ipython",
    "version": 3
   },
   "file_extension": ".py",
   "mimetype": "text/x-python",
   "name": "python",
   "nbconvert_exporter": "python",
   "pygments_lexer": "ipython3",
   "version": "3.13.3"
  }
 },
 "nbformat": 4,
 "nbformat_minor": 2
}
