{
 "cells": [
  {
   "cell_type": "markdown",
   "metadata": {},
   "source": [
    "# Run this code to use agent\n",
    "https://cloud.google.com/vertex-ai/generative-ai/docs/agent-engine/use/overview#vertex-ai-sdk-for-python"
   ]
  },
  {
   "cell_type": "code",
   "execution_count": 1,
   "metadata": {},
   "outputs": [],
   "source": [
    "from vertexai import agent_engines\n",
    "\n",
    "agent = agent_engines.get(\"8914989811589185536\")"
   ]
  },
  {
   "cell_type": "code",
   "execution_count": 2,
   "metadata": {},
   "outputs": [
    {
     "data": {
      "text/plain": [
       "[{'parameters': {'type': 'object',\n",
       "   'properties': {'session_id': {'type': 'string'},\n",
       "    'user_id': {'type': 'string'}},\n",
       "   'required': ['user_id', 'session_id']},\n",
       "  'description': 'Get a session for the given user.\\n\\nArgs:\\n    user_id (str):\\n        Required. The ID of the user.\\n    session_id (str):\\n        Required. The ID of the session.\\n    **kwargs (dict[str, Any]):\\n        Optional. Additional keyword arguments to pass to the\\n        session service.\\n\\nReturns:\\n    Session: The session instance (if any). It returns None if the\\n    session is not found.\\n\\nRaises:\\n    RuntimeError: If the session is not found.\\n',\n",
       "  'api_mode': '',\n",
       "  'name': 'get_session'},\n",
       " {'parameters': {'type': 'object',\n",
       "   'properties': {'user_id': {'type': 'string'}},\n",
       "   'required': ['user_id']},\n",
       "  'description': 'List sessions for the given user.\\n\\nArgs:\\n    user_id (str):\\n        Required. The ID of the user.\\n    **kwargs (dict[str, Any]):\\n        Optional. Additional keyword arguments to pass to the\\n        session service.\\n\\nReturns:\\n    ListSessionsResponse: The list of sessions.\\n',\n",
       "  'api_mode': '',\n",
       "  'name': 'list_sessions'},\n",
       " {'parameters': {'type': 'object',\n",
       "   'properties': {'session_id': {'type': 'string', 'nullable': True},\n",
       "    'user_id': {'type': 'string'},\n",
       "    'state': {'type': 'object', 'nullable': True}},\n",
       "   'required': ['user_id']},\n",
       "  'description': 'Creates a new session.\\n\\nArgs:\\n    user_id (str):\\n        Required. The ID of the user.\\n    session_id (str):\\n        Optional. The ID of the session. If not provided, an ID\\n        will be be generated for the session.\\n    state (dict[str, Any]):\\n        Optional. The initial state of the session.\\n    **kwargs (dict[str, Any]):\\n        Optional. Additional keyword arguments to pass to the\\n        session service.\\n\\nReturns:\\n    Session: The newly created session instance.\\n',\n",
       "  'api_mode': '',\n",
       "  'name': 'create_session'},\n",
       " {'parameters': {'type': 'object',\n",
       "   'properties': {'session_id': {'type': 'string'},\n",
       "    'user_id': {'type': 'string'}},\n",
       "   'required': ['user_id', 'session_id']},\n",
       "  'description': 'Deletes a session for the given user.\\n\\nArgs:\\n    user_id (str):\\n        Required. The ID of the user.\\n    session_id (str):\\n        Required. The ID of the session.\\n    **kwargs (dict[str, Any]):\\n        Optional. Additional keyword arguments to pass to the\\n        session service.\\n',\n",
       "  'api_mode': '',\n",
       "  'name': 'delete_session'},\n",
       " {'parameters': {'type': 'object',\n",
       "   'properties': {'session_id': {'type': 'string', 'nullable': True},\n",
       "    'message': {'anyOf': [{'type': 'string'},\n",
       "      {'additionalProperties': True, 'type': 'object'}]},\n",
       "    'user_id': {'type': 'string'}},\n",
       "   'required': ['message', 'user_id']},\n",
       "  'description': 'Streams responses from the ADK application in response to a message.\\n\\nArgs:\\n    message (Union[str, Dict[str, Any]]):\\n        Required. The message to stream responses for.\\n    user_id (str):\\n        Required. The ID of the user.\\n    session_id (str):\\n        Optional. The ID of the session. If not provided, a new\\n        session will be created for the user.\\n    **kwargs (dict[str, Any]):\\n        Optional. Additional keyword arguments to pass to the\\n        runner.\\n\\nYields:\\n    The output of querying the ADK application.\\n',\n",
       "  'api_mode': 'stream',\n",
       "  'name': 'stream_query'},\n",
       " {'parameters': {'type': 'object',\n",
       "   'properties': {'request_json': {'type': 'string'}},\n",
       "   'required': ['request_json']},\n",
       "  'description': None,\n",
       "  'api_mode': 'stream',\n",
       "  'name': 'streaming_agent_run_with_events'},\n",
       " {'parameters': {'type': 'object',\n",
       "   'properties': {'session_id': {'type': 'string', 'nullable': True},\n",
       "    'message': {'anyOf': [{'type': 'string'},\n",
       "      {'additionalProperties': True, 'type': 'object'}]},\n",
       "    'user_id': {'type': 'string'}},\n",
       "   'required': ['message', 'user_id']},\n",
       "  'description': 'Streams responses asynchronously from the ADK application.\\n\\nArgs:\\n    message (str):\\n        Required. The message to stream responses for.\\n    user_id (str):\\n        Required. The ID of the user.\\n    session_id (str):\\n        Optional. The ID of the session. If not provided, a new\\n        session will be created for the user.\\n    **kwargs (dict[str, Any]):\\n        Optional. Additional keyword arguments to pass to the\\n        runner.\\n\\nYields:\\n    Event dictionaries asynchronously.\\n',\n",
       "  'api_mode': 'async_stream',\n",
       "  'name': 'async_stream_query'}]"
      ]
     },
     "execution_count": 2,
     "metadata": {},
     "output_type": "execute_result"
    }
   ],
   "source": [
    "agent.operation_schemas()"
   ]
  },
  {
   "cell_type": "code",
   "execution_count": 8,
   "metadata": {},
   "outputs": [
    {
     "data": {
      "text/plain": [
       "{'appName': '8914989811589185536',\n",
       " 'events': [],\n",
       " 'state': {},\n",
       " 'id': '3943917972262748160',\n",
       " 'lastUpdateTime': 1749669582.029069,\n",
       " 'userId': 'u_456'}"
      ]
     },
     "execution_count": 8,
     "metadata": {},
     "output_type": "execute_result"
    }
   ],
   "source": [
    "remote_session = agent.create_session(user_id=\"u_456\")\n",
    "remote_session"
   ]
  },
  {
   "cell_type": "code",
   "execution_count": 10,
   "metadata": {},
   "outputs": [
    {
     "name": "stdout",
     "output_type": "stream",
     "text": [
      "{'content': {'parts': [{'function_call': {'id': 'adk-3dc56ca5-127f-403b-8a8b-0163d2916563', 'args': {'ticker': 'AAPL'}, 'name': 'get_stock_price'}}], 'role': 'model'}, 'usage_metadata': {'candidates_token_count': 8, 'candidates_tokens_details': [{'modality': 'TEXT', 'token_count': 8}], 'prompt_token_count': 71, 'prompt_tokens_details': [{'modality': 'TEXT', 'token_count': 71}], 'total_token_count': 79, 'traffic_type': 'ON_DEMAND'}, 'invocation_id': 'e-64d99028-edad-40eb-8b82-a64e69b138ae', 'author': 'root_agent', 'actions': {'state_delta': {}, 'artifact_delta': {}, 'requested_auth_configs': {}}, 'long_running_tool_ids': [], 'id': 'yZGC60Qx', 'timestamp': 1749669618.815599}\n",
      "{'content': {'parts': [{'function_response': {'id': 'adk-3dc56ca5-127f-403b-8a8b-0163d2916563', 'name': 'get_stock_price', 'response': {'price': 198.686, 'ticker': 'AAPL'}}}], 'role': 'user'}, 'invocation_id': 'e-64d99028-edad-40eb-8b82-a64e69b138ae', 'author': 'root_agent', 'actions': {'state_delta': {}, 'artifact_delta': {}, 'requested_auth_configs': {}}, 'id': 'dcvQcwCA', 'timestamp': 1749669619.929783}\n",
      "{'content': {'parts': [{'text': 'The stock price for Apple (AAPL) is 198.686.\\n'}], 'role': 'model'}, 'usage_metadata': {'candidates_token_count': 20, 'candidates_tokens_details': [{'modality': 'TEXT', 'token_count': 20}], 'prompt_token_count': 89, 'prompt_tokens_details': [{'modality': 'TEXT', 'token_count': 89}], 'total_token_count': 109, 'traffic_type': 'ON_DEMAND'}, 'invocation_id': 'e-64d99028-edad-40eb-8b82-a64e69b138ae', 'author': 'root_agent', 'actions': {'state_delta': {}, 'artifact_delta': {}, 'requested_auth_configs': {}}, 'id': 'YuUtOZyb', 'timestamp': 1749669620.16065}\n"
     ]
    }
   ],
   "source": [
    "for event in agent.stream_query(\n",
    "    user_id=\"u_456\",\n",
    "    session_id=remote_session[\"id\"],\n",
    "    message=\"what is Apple stock price?\",\n",
    "):\n",
    "    print(event)"
   ]
  },
  {
   "cell_type": "code",
   "execution_count": null,
   "metadata": {},
   "outputs": [],
   "source": []
  }
 ],
 "metadata": {
  "kernelspec": {
   "display_name": "agent",
   "language": "python",
   "name": "python3"
  },
  "language_info": {
   "codemirror_mode": {
    "name": "ipython",
    "version": 3
   },
   "file_extension": ".py",
   "mimetype": "text/x-python",
   "name": "python",
   "nbconvert_exporter": "python",
   "pygments_lexer": "ipython3",
   "version": "3.13.3"
  }
 },
 "nbformat": 4,
 "nbformat_minor": 2
}
