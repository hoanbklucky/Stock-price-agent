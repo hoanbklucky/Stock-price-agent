{
 "cells": [
  {
   "cell_type": "markdown",
   "metadata": {},
   "source": [
    "# Run this code to use agent\n",
    "https://cloud.google.com/vertex-ai/generative-ai/docs/agent-engine/use/overview#vertex-ai-sdk-for-python"
   ]
  },
  {
   "cell_type": "code",
   "execution_count": 11,
   "metadata": {},
   "outputs": [],
   "source": [
    "from vertexai import agent_engines\n",
    "\n",
    "agent = agent_engines.get(\"8914989811589185536\")"
   ]
  },
  {
   "cell_type": "code",
   "execution_count": 12,
   "metadata": {},
   "outputs": [
    {
     "data": {
      "text/plain": [
       "[{'parameters': {'type': 'object',\n",
       "   'properties': {'session_id': {'type': 'string'},\n",
       "    'user_id': {'type': 'string'}},\n",
       "   'required': ['user_id', 'session_id']},\n",
       "  'description': 'Get a session for the given user.\\n\\nArgs:\\n    user_id (str):\\n        Required. The ID of the user.\\n    session_id (str):\\n        Required. The ID of the session.\\n    **kwargs (dict[str, Any]):\\n        Optional. Additional keyword arguments to pass to the\\n        session service.\\n\\nReturns:\\n    Session: The session instance (if any). It returns None if the\\n    session is not found.\\n\\nRaises:\\n    RuntimeError: If the session is not found.\\n',\n",
       "  'api_mode': '',\n",
       "  'name': 'get_session'},\n",
       " {'parameters': {'type': 'object',\n",
       "   'properties': {'user_id': {'type': 'string'}},\n",
       "   'required': ['user_id']},\n",
       "  'description': 'List sessions for the given user.\\n\\nArgs:\\n    user_id (str):\\n        Required. The ID of the user.\\n    **kwargs (dict[str, Any]):\\n        Optional. Additional keyword arguments to pass to the\\n        session service.\\n\\nReturns:\\n    ListSessionsResponse: The list of sessions.\\n',\n",
       "  'api_mode': '',\n",
       "  'name': 'list_sessions'},\n",
       " {'parameters': {'type': 'object',\n",
       "   'properties': {'session_id': {'type': 'string', 'nullable': True},\n",
       "    'user_id': {'type': 'string'},\n",
       "    'state': {'type': 'object', 'nullable': True}},\n",
       "   'required': ['user_id']},\n",
       "  'description': 'Creates a new session.\\n\\nArgs:\\n    user_id (str):\\n        Required. The ID of the user.\\n    session_id (str):\\n        Optional. The ID of the session. If not provided, an ID\\n        will be be generated for the session.\\n    state (dict[str, Any]):\\n        Optional. The initial state of the session.\\n    **kwargs (dict[str, Any]):\\n        Optional. Additional keyword arguments to pass to the\\n        session service.\\n\\nReturns:\\n    Session: The newly created session instance.\\n',\n",
       "  'api_mode': '',\n",
       "  'name': 'create_session'},\n",
       " {'parameters': {'type': 'object',\n",
       "   'properties': {'session_id': {'type': 'string'},\n",
       "    'user_id': {'type': 'string'}},\n",
       "   'required': ['user_id', 'session_id']},\n",
       "  'description': 'Deletes a session for the given user.\\n\\nArgs:\\n    user_id (str):\\n        Required. The ID of the user.\\n    session_id (str):\\n        Required. The ID of the session.\\n    **kwargs (dict[str, Any]):\\n        Optional. Additional keyword arguments to pass to the\\n        session service.\\n',\n",
       "  'api_mode': '',\n",
       "  'name': 'delete_session'},\n",
       " {'parameters': {'type': 'object',\n",
       "   'properties': {'session_id': {'type': 'string', 'nullable': True},\n",
       "    'message': {'anyOf': [{'type': 'string'},\n",
       "      {'additionalProperties': True, 'type': 'object'}]},\n",
       "    'user_id': {'type': 'string'}},\n",
       "   'required': ['message', 'user_id']},\n",
       "  'description': 'Streams responses from the ADK application in response to a message.\\n\\nArgs:\\n    message (Union[str, Dict[str, Any]]):\\n        Required. The message to stream responses for.\\n    user_id (str):\\n        Required. The ID of the user.\\n    session_id (str):\\n        Optional. The ID of the session. If not provided, a new\\n        session will be created for the user.\\n    **kwargs (dict[str, Any]):\\n        Optional. Additional keyword arguments to pass to the\\n        runner.\\n\\nYields:\\n    The output of querying the ADK application.\\n',\n",
       "  'api_mode': 'stream',\n",
       "  'name': 'stream_query'},\n",
       " {'parameters': {'type': 'object',\n",
       "   'properties': {'request_json': {'type': 'string'}},\n",
       "   'required': ['request_json']},\n",
       "  'description': None,\n",
       "  'api_mode': 'stream',\n",
       "  'name': 'streaming_agent_run_with_events'},\n",
       " {'parameters': {'type': 'object',\n",
       "   'properties': {'session_id': {'type': 'string', 'nullable': True},\n",
       "    'message': {'anyOf': [{'type': 'string'},\n",
       "      {'additionalProperties': True, 'type': 'object'}]},\n",
       "    'user_id': {'type': 'string'}},\n",
       "   'required': ['message', 'user_id']},\n",
       "  'description': 'Streams responses asynchronously from the ADK application.\\n\\nArgs:\\n    message (str):\\n        Required. The message to stream responses for.\\n    user_id (str):\\n        Required. The ID of the user.\\n    session_id (str):\\n        Optional. The ID of the session. If not provided, a new\\n        session will be created for the user.\\n    **kwargs (dict[str, Any]):\\n        Optional. Additional keyword arguments to pass to the\\n        runner.\\n\\nYields:\\n    Event dictionaries asynchronously.\\n',\n",
       "  'api_mode': 'async_stream',\n",
       "  'name': 'async_stream_query'}]"
      ]
     },
     "execution_count": 12,
     "metadata": {},
     "output_type": "execute_result"
    }
   ],
   "source": [
    "agent.operation_schemas()"
   ]
  },
  {
   "cell_type": "code",
   "execution_count": 13,
   "metadata": {},
   "outputs": [
    {
     "data": {
      "text/plain": [
       "{'appName': '8914989811589185536',\n",
       " 'events': [],\n",
       " 'state': {},\n",
       " 'id': '4129621088147603456',\n",
       " 'userId': 'u_456',\n",
       " 'lastUpdateTime': 1749760568.854165}"
      ]
     },
     "execution_count": 13,
     "metadata": {},
     "output_type": "execute_result"
    }
   ],
   "source": [
    "remote_session = agent.create_session(user_id=\"u_456\")\n",
    "remote_session"
   ]
  },
  {
   "cell_type": "code",
   "execution_count": 18,
   "metadata": {},
   "outputs": [
    {
     "name": "stdout",
     "output_type": "stream",
     "text": [
      "{'content': {'parts': [{'function_call': {'id': 'adk-57752f8b-9d1a-41b7-af53-6617b07d5e10', 'args': {'ticker': 'AAPL'}, 'name': 'get_stock_price'}}], 'role': 'model'}, 'usage_metadata': {'candidates_token_count': 8, 'candidates_tokens_details': [{'modality': 'TEXT', 'token_count': 8}], 'prompt_token_count': 162, 'prompt_tokens_details': [{'modality': 'TEXT', 'token_count': 162}], 'total_token_count': 170, 'traffic_type': 'ON_DEMAND'}, 'invocation_id': 'e-a4341a87-f45d-4670-a93e-a96b9b81737d', 'author': 'root_agent', 'actions': {'state_delta': {}, 'artifact_delta': {}, 'requested_auth_configs': {}}, 'long_running_tool_ids': [], 'id': '7zLiM5Zj', 'timestamp': 1749761162.447965}\n",
      "{'content': {'parts': [{'function_response': {'id': 'adk-57752f8b-9d1a-41b7-af53-6617b07d5e10', 'name': 'get_stock_price', 'response': {'price': 'Price not available', 'ticker': 'AAPL'}}}], 'role': 'user'}, 'invocation_id': 'e-a4341a87-f45d-4670-a93e-a96b9b81737d', 'author': 'root_agent', 'actions': {'state_delta': {}, 'artifact_delta': {}, 'requested_auth_configs': {}}, 'id': 'fS8IjvIL', 'timestamp': 1749761165.977299}\n",
      "{'content': {'parts': [{'text': 'Currently, the price for AAPL is not available.\\n'}], 'role': 'model'}, 'usage_metadata': {'candidates_token_count': 12, 'candidates_tokens_details': [{'modality': 'TEXT', 'token_count': 12}], 'prompt_token_count': 182, 'prompt_tokens_details': [{'modality': 'TEXT', 'token_count': 182}], 'total_token_count': 194, 'traffic_type': 'ON_DEMAND'}, 'invocation_id': 'e-a4341a87-f45d-4670-a93e-a96b9b81737d', 'author': 'root_agent', 'actions': {'state_delta': {}, 'artifact_delta': {}, 'requested_auth_configs': {}}, 'id': 'Xb0aBSrn', 'timestamp': 1749761166.195912}\n"
     ]
    }
   ],
   "source": [
    "for event in agent.stream_query(\n",
    "    user_id=\"u_456\",\n",
    "    session_id=remote_session[\"id\"],\n",
    "    message=\"what is Apple stock price?\",\n",
    "):\n",
    "    print(event)"
   ]
  },
  {
   "cell_type": "code",
   "execution_count": null,
   "metadata": {},
   "outputs": [],
   "source": []
  }
 ],
 "metadata": {
  "kernelspec": {
   "display_name": "agent",
   "language": "python",
   "name": "python3"
  },
  "language_info": {
   "codemirror_mode": {
    "name": "ipython",
    "version": 3
   },
   "file_extension": ".py",
   "mimetype": "text/x-python",
   "name": "python",
   "nbconvert_exporter": "python",
   "pygments_lexer": "ipython3",
   "version": "3.13.3"
  }
 },
 "nbformat": 4,
 "nbformat_minor": 2
}
