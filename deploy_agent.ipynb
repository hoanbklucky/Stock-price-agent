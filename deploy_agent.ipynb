{
 "cells": [
  {
   "cell_type": "markdown",
   "metadata": {},
   "source": [
    "# Run this code to deploy an agent"
   ]
  },
  {
   "cell_type": "code",
   "execution_count": 56,
   "metadata": {},
   "outputs": [],
   "source": [
    "import vertexai\n",
    "\n",
    "PROJECT_ID = \"virtual-nurse-450613\"\n",
    "LOCATION = \"us-central1\"\n",
    "STAGING_BUCKET = \"gs://deploy-short-bot\"\n",
    "\n",
    "vertexai.init(\n",
    "    project=PROJECT_ID,\n",
    "    location=LOCATION,\n",
    "    staging_bucket=STAGING_BUCKET,\n",
    ")\n",
    "\n",
    "from google.adk.agents import Agent\n",
    "from vertexai.preview.reasoning_engines import AdkApp\n",
    "import yfinance as yf\n",
    "\n",
    "def get_stock_price(ticker: str):\n",
    "    stock = yf.Ticker(ticker)\n",
    "    price = stock.info.get(\"currentPrice\", \"Price not available\")\n",
    "    return {\"price\": price, \"ticker\": ticker}\n",
    "\n",
    "root_agent = Agent(\n",
    "    model='gemini-2.0-flash-001',\n",
    "    name='root_agent',\n",
    "    description='A simple agent that get stock price.',\n",
    "    instruction=\"\"\"You are a stock price assistant. Always use the get_stock_price tool.\n",
    "                Include the ticker symbol in your response\"\"\",\n",
    "    tools=[get_stock_price]\n",
    ")\n",
    "\n",
    "from vertexai.preview import reasoning_engines\n",
    "\n",
    "app = reasoning_engines.AdkApp(\n",
    "    agent=root_agent,\n",
    "    enable_tracing=True,\n",
    ")\n",
    "\n",
    "session = app.create_session(user_id=\"u_123\")"
   ]
  },
  {
   "cell_type": "code",
   "execution_count": 57,
   "metadata": {},
   "outputs": [
    {
     "data": {
      "text/plain": [
       "Session(id='82097e38-a69e-4148-84ee-4210423ce442', app_name='default-app-name', user_id='u_123', state={}, events=[], last_update_time=1750463326.5524333)"
      ]
     },
     "execution_count": 57,
     "metadata": {},
     "output_type": "execute_result"
    }
   ],
   "source": [
    "session"
   ]
  },
  {
   "cell_type": "code",
   "execution_count": 58,
   "metadata": {},
   "outputs": [
    {
     "data": {
      "text/plain": [
       "ListSessionsResponse(sessions=[Session(id='82097e38-a69e-4148-84ee-4210423ce442', app_name='default-app-name', user_id='u_123', state={}, events=[], last_update_time=1750463326.5524333)])"
      ]
     },
     "execution_count": 58,
     "metadata": {},
     "output_type": "execute_result"
    }
   ],
   "source": [
    "app.list_sessions(user_id=\"u_123\")"
   ]
  },
  {
   "cell_type": "code",
   "execution_count": 59,
   "metadata": {},
   "outputs": [
    {
     "name": "stderr",
     "output_type": "stream",
     "text": [
      "Warning: there are non-text parts in the response: ['function_call'], returning concatenated text result from text parts. Check the full candidates.content.parts accessor to get the full model response.\n"
     ]
    },
    {
     "name": "stdout",
     "output_type": "stream",
     "text": [
      "{'content': {'parts': [{'function_call': {'id': 'adk-dc50c4e4-7ff3-4c5d-8a9b-6eb8dc0ada31', 'args': {'ticker': 'AAPL'}, 'name': 'get_stock_price'}}], 'role': 'model'}, 'usage_metadata': {'candidates_token_count': 8, 'candidates_tokens_details': [{'modality': <MediaModality.TEXT: 'TEXT'>, 'token_count': 8}], 'prompt_token_count': 71, 'prompt_tokens_details': [{'modality': <MediaModality.TEXT: 'TEXT'>, 'token_count': 71}], 'total_token_count': 79, 'traffic_type': <TrafficType.ON_DEMAND: 'ON_DEMAND'>}, 'invocation_id': 'e-2fd27fc2-8fb0-4373-a7b2-591cb49061ec', 'author': 'root_agent', 'actions': {'state_delta': {}, 'artifact_delta': {}, 'requested_auth_configs': {}}, 'long_running_tool_ids': set(), 'id': 'g2fi4c4J', 'timestamp': 1750463334.795711}\n",
      "{'content': {'parts': [{'function_response': {'id': 'adk-dc50c4e4-7ff3-4c5d-8a9b-6eb8dc0ada31', 'name': 'get_stock_price', 'response': {'price': 201.0, 'ticker': 'AAPL'}}}], 'role': 'user'}, 'invocation_id': 'e-2fd27fc2-8fb0-4373-a7b2-591cb49061ec', 'author': 'root_agent', 'actions': {'state_delta': {}, 'artifact_delta': {}, 'requested_auth_configs': {}}, 'id': 'F14srw4G', 'timestamp': 1750463338.397497}\n",
      "{'content': {'parts': [{'text': 'The current price of Apple (AAPL) is $201.\\n'}], 'role': 'model'}, 'usage_metadata': {'candidates_token_count': 16, 'candidates_tokens_details': [{'modality': <MediaModality.TEXT: 'TEXT'>, 'token_count': 16}], 'prompt_token_count': 89, 'prompt_tokens_details': [{'modality': <MediaModality.TEXT: 'TEXT'>, 'token_count': 89}], 'total_token_count': 105, 'traffic_type': <TrafficType.ON_DEMAND: 'ON_DEMAND'>}, 'invocation_id': 'e-2fd27fc2-8fb0-4373-a7b2-591cb49061ec', 'author': 'root_agent', 'actions': {'state_delta': {}, 'artifact_delta': {}, 'requested_auth_configs': {}}, 'id': 'b1ZihGp6', 'timestamp': 1750463338.400711}\n"
     ]
    }
   ],
   "source": [
    "for event in app.stream_query(\n",
    "    user_id=\"u_123\",\n",
    "    session_id=session.id,\n",
    "    message=\"whats is Apple stock price?\",\n",
    "):\n",
    "    print(event)"
   ]
  },
  {
   "cell_type": "code",
   "execution_count": 60,
   "metadata": {},
   "outputs": [
    {
     "name": "stdout",
     "output_type": "stream",
     "text": [
      "Deploying google.adk.agents.Agent as an application.\n",
      "Identified the following requirements: {'pydantic': '2.11.7', 'google-cloud-aiplatform': '1.97.0', 'cloudpickle': '3.1.1'}\n",
      "The following requirements are missing: {'pydantic', 'cloudpickle'}\n",
      "The following requirements are appended: {'pydantic==2.11.7', 'cloudpickle==3.1.1'}\n",
      "The final list of requirements: ['google-cloud-aiplatform[adk,agent_engines]', 'yfinance', 'pydantic==2.11.7', 'cloudpickle==3.1.1']\n",
      "Using bucket deploy-short-bot\n",
      "Wrote to gs://deploy-short-bot/agent_engine/agent_engine.pkl\n",
      "Writing to gs://deploy-short-bot/agent_engine/requirements.txt\n",
      "Creating in-memory tarfile of extra_packages\n",
      "Writing to gs://deploy-short-bot/agent_engine/dependencies.tar.gz\n",
      "Creating AgentEngine\n",
      "Create AgentEngine backing LRO: projects/533873564462/locations/us-central1/reasoningEngines/6360041447986561024/operations/8864586927261614080\n",
      "View progress and logs at https://console.cloud.google.com/logs/query?project=virtual-nurse-450613\n",
      "AgentEngine created. Resource name: projects/533873564462/locations/us-central1/reasoningEngines/6360041447986561024\n",
      "To use this AgentEngine in another session:\n",
      "agent_engine = vertexai.agent_engines.get('projects/533873564462/locations/us-central1/reasoningEngines/6360041447986561024')\n"
     ]
    }
   ],
   "source": [
    "from vertexai import agent_engines\n",
    "\n",
    "remote_app = agent_engines.create(\n",
    "    agent_engine=root_agent,\n",
    "    requirements=[\n",
    "        \"google-cloud-aiplatform[adk,agent_engines]\", \"yfinance\"   \n",
    "    ]\n",
    ")"
   ]
  },
  {
   "cell_type": "code",
   "execution_count": 61,
   "metadata": {},
   "outputs": [
    {
     "data": {
      "text/plain": [
       "'projects/533873564462/locations/us-central1/reasoningEngines/6360041447986561024'"
      ]
     },
     "execution_count": 61,
     "metadata": {},
     "output_type": "execute_result"
    }
   ],
   "source": [
    "remote_app.resource_name"
   ]
  },
  {
   "cell_type": "code",
   "execution_count": 62,
   "metadata": {},
   "outputs": [
    {
     "data": {
      "text/plain": [
       "{'id': '8217517359288549376',\n",
       " 'lastUpdateTime': 1750463547.922375,\n",
       " 'userId': 'u_456',\n",
       " 'state': {},\n",
       " 'events': [],\n",
       " 'appName': '6360041447986561024'}"
      ]
     },
     "execution_count": 62,
     "metadata": {},
     "output_type": "execute_result"
    }
   ],
   "source": [
    "remote_session = remote_app.create_session(user_id=\"u_456\")\n",
    "remote_session"
   ]
  },
  {
   "cell_type": "code",
   "execution_count": 63,
   "metadata": {},
   "outputs": [
    {
     "name": "stdout",
     "output_type": "stream",
     "text": [
      "{'content': {'parts': [{'function_call': {'id': 'adk-0640b0dd-df85-407d-b95c-be73cda20fe0', 'args': {'ticker': 'AAPL'}, 'name': 'get_stock_price'}}], 'role': 'model'}, 'usage_metadata': {'candidates_token_count': 8, 'candidates_tokens_details': [{'modality': 'TEXT', 'token_count': 8}], 'prompt_token_count': 71, 'prompt_tokens_details': [{'modality': 'TEXT', 'token_count': 71}], 'total_token_count': 79, 'traffic_type': 'ON_DEMAND'}, 'invocation_id': 'e-4335e899-0093-4465-985e-dbae1d321a6e', 'author': 'root_agent', 'actions': {'state_delta': {}, 'artifact_delta': {}, 'requested_auth_configs': {}}, 'long_running_tool_ids': [], 'id': 'uPRN0XlV', 'timestamp': 1750463568.919436}\n",
      "{'content': {'parts': [{'function_response': {'id': 'adk-0640b0dd-df85-407d-b95c-be73cda20fe0', 'name': 'get_stock_price', 'response': {'price': 201.0, 'ticker': 'AAPL'}}}], 'role': 'user'}, 'invocation_id': 'e-4335e899-0093-4465-985e-dbae1d321a6e', 'author': 'root_agent', 'actions': {'state_delta': {}, 'artifact_delta': {}, 'requested_auth_configs': {}}, 'id': 'Elyf2PAa', 'timestamp': 1750463570.144493}\n",
      "{'content': {'parts': [{'text': 'The current stock price for Apple (AAPL) is $201.\\n'}], 'role': 'model'}, 'usage_metadata': {'candidates_token_count': 17, 'candidates_tokens_details': [{'modality': 'TEXT', 'token_count': 17}], 'prompt_token_count': 89, 'prompt_tokens_details': [{'modality': 'TEXT', 'token_count': 89}], 'total_token_count': 106, 'traffic_type': 'ON_DEMAND'}, 'invocation_id': 'e-4335e899-0093-4465-985e-dbae1d321a6e', 'author': 'root_agent', 'actions': {'state_delta': {}, 'artifact_delta': {}, 'requested_auth_configs': {}}, 'id': 'WMsY84Ar', 'timestamp': 1750463570.316372}\n"
     ]
    }
   ],
   "source": [
    "for event in remote_app.stream_query(\n",
    "    user_id=\"u_456\",\n",
    "    session_id=remote_session[\"id\"],\n",
    "    message=\"what is Apple stock price?\",\n",
    "):\n",
    "    print(event)"
   ]
  }
 ],
 "metadata": {
  "kernelspec": {
   "display_name": "agent",
   "language": "python",
   "name": "python3"
  },
  "language_info": {
   "codemirror_mode": {
    "name": "ipython",
    "version": 3
   },
   "file_extension": ".py",
   "mimetype": "text/x-python",
   "name": "python",
   "nbconvert_exporter": "python",
   "pygments_lexer": "ipython3",
   "version": "3.13.3"
  }
 },
 "nbformat": 4,
 "nbformat_minor": 2
}
