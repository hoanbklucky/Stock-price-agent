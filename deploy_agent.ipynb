{
 "cells": [
  {
   "cell_type": "markdown",
   "metadata": {},
   "source": [
    "# Run this code to deploy an agent"
   ]
  },
  {
   "cell_type": "code",
   "execution_count": 64,
   "metadata": {},
   "outputs": [],
   "source": [
    "import vertexai\n",
    "from virtual_nurse.agent import root_agent\n",
    "\n",
    "PROJECT_ID = \"virtual-nurse-450613\"\n",
    "LOCATION = \"us-central1\"\n",
    "STAGING_BUCKET = \"gs://deploy-virtual-nurse\"\n",
    "\n",
    "vertexai.init(\n",
    "    project=PROJECT_ID,\n",
    "    location=LOCATION,\n",
    "    staging_bucket=STAGING_BUCKET,\n",
    ")\n",
    "\n",
    "from vertexai.preview import reasoning_engines\n",
    "\n",
    "app = reasoning_engines.AdkApp(\n",
    "    agent=root_agent,\n",
    "    enable_tracing=True,\n",
    ")\n",
    "\n",
    "session = app.create_session(user_id=\"u_123\")"
   ]
  },
  {
   "cell_type": "code",
   "execution_count": 65,
   "metadata": {},
   "outputs": [
    {
     "data": {
      "text/plain": [
       "Session(id='796f3029-ae2c-442a-8adc-5ea7e498ab7e', app_name='default-app-name', user_id='u_123', state={}, events=[], last_update_time=1750463830.4999225)"
      ]
     },
     "execution_count": 65,
     "metadata": {},
     "output_type": "execute_result"
    }
   ],
   "source": [
    "session"
   ]
  },
  {
   "cell_type": "code",
   "execution_count": 66,
   "metadata": {},
   "outputs": [
    {
     "data": {
      "text/plain": [
       "ListSessionsResponse(sessions=[Session(id='796f3029-ae2c-442a-8adc-5ea7e498ab7e', app_name='default-app-name', user_id='u_123', state={}, events=[], last_update_time=1750463830.4999225)])"
      ]
     },
     "execution_count": 66,
     "metadata": {},
     "output_type": "execute_result"
    }
   ],
   "source": [
    "app.list_sessions(user_id=\"u_123\")"
   ]
  },
  {
   "cell_type": "code",
   "execution_count": 67,
   "metadata": {},
   "outputs": [
    {
     "name": "stdout",
     "output_type": "stream",
     "text": [
      "{'content': {'parts': [{'text': \"Hello! I'm here to help you with Scarlett. I need to ask you a few questions to understand the situation better.\\n\\nWhat surgery did Scarlett have?\"}], 'role': 'model'}, 'usage_metadata': {'candidates_token_count': 33, 'candidates_tokens_details': [{'modality': <MediaModality.TEXT: 'TEXT'>, 'token_count': 33}], 'prompt_token_count': 1973, 'prompt_tokens_details': [{'modality': <MediaModality.TEXT: 'TEXT'>, 'token_count': 1973}], 'thoughts_token_count': 1017, 'total_token_count': 3023, 'traffic_type': <TrafficType.ON_DEMAND: 'ON_DEMAND'>}, 'invocation_id': 'e-3d71a35b-5e38-43b0-b76e-4fdaabf2f7be', 'author': 'triage_agent', 'actions': {'state_delta': {}, 'artifact_delta': {}, 'requested_auth_configs': {}}, 'id': 'T57SwpbP', 'timestamp': 1750463842.248229}\n"
     ]
    }
   ],
   "source": [
    "for event in app.stream_query(\n",
    "    user_id=\"u_123\",\n",
    "    session_id=session.id,\n",
    "    message=\"Scarlett, age 10, had a tonsillectomy 5 days ago and is currently visiting cousins out of town. The parent reports that the son's mouth smells really bad and he says it tastes gross. The patient does not report bleeding. The distance from the surgical hospital is 45 minutes and from the nearest hospital is 20 minutes. The patient last ate this afternoon and drank 1.5 cups of fluids in the past day. Lips are not chapped. The patient is not acting like themselves\\u2014complaining a lot. Pain is not limiting intake. The patient is not experiencing nausea or vomiting and has no fevers. Pain is reported in the throat. There is no ear pain. The patient has a sore throat. Pain is managed with ibuprofen. Medications are not being alternated and they have not run out. Pain is not impacting intake. There is no bloody sputum. The throat has white patches only. The tongue/mouth has a yellowish coating. There is no breathing history and no cyanosis. The patient is annoyed and avoidant and not acting normal.\",\n",
    "):\n",
    "    print(event)"
   ]
  },
  {
   "cell_type": "code",
   "execution_count": 68,
   "metadata": {},
   "outputs": [
    {
     "name": "stdout",
     "output_type": "stream",
     "text": [
      "Deploying google.adk.agents.Agent as an application.\n",
      "Identified the following requirements: {'pydantic': '2.11.7', 'google-cloud-aiplatform': '1.97.0', 'cloudpickle': '3.1.1'}\n",
      "The following requirements are missing: {'pydantic', 'cloudpickle'}\n",
      "The following requirements are appended: {'pydantic==2.11.7', 'cloudpickle==3.1.1'}\n",
      "The final list of requirements: ['google-cloud-aiplatform[adk,agent_engines]', 'pydantic==2.11.7', 'cloudpickle==3.1.1']\n",
      "Using bucket deploy-virtual-nurse\n",
      "Wrote to gs://deploy-virtual-nurse/agent_engine/agent_engine.pkl\n",
      "Writing to gs://deploy-virtual-nurse/agent_engine/requirements.txt\n",
      "Creating in-memory tarfile of extra_packages\n",
      "Writing to gs://deploy-virtual-nurse/agent_engine/dependencies.tar.gz\n",
      "Creating AgentEngine\n",
      "Create AgentEngine backing LRO: projects/533873564462/locations/us-central1/reasoningEngines/8665884457200254976/operations/469877221843009536\n",
      "View progress and logs at https://console.cloud.google.com/logs/query?project=virtual-nurse-450613\n",
      "AgentEngine created. Resource name: projects/533873564462/locations/us-central1/reasoningEngines/8665884457200254976\n",
      "To use this AgentEngine in another session:\n",
      "agent_engine = vertexai.agent_engines.get('projects/533873564462/locations/us-central1/reasoningEngines/8665884457200254976')\n"
     ]
    }
   ],
   "source": [
    "from vertexai import agent_engines\n",
    "\n",
    "remote_app = agent_engines.create(\n",
    "    agent_engine=root_agent,\n",
    "    requirements=[\n",
    "        \"google-cloud-aiplatform[adk,agent_engines]\",  \n",
    "    ],\n",
    "    extra_packages=[\n",
    "        \"virtual_nurse\",  \n",
    "    ]\n",
    ")"
   ]
  },
  {
   "cell_type": "code",
   "execution_count": 69,
   "metadata": {},
   "outputs": [
    {
     "data": {
      "text/plain": [
       "'projects/533873564462/locations/us-central1/reasoningEngines/8665884457200254976'"
      ]
     },
     "execution_count": 69,
     "metadata": {},
     "output_type": "execute_result"
    }
   ],
   "source": [
    "remote_app.resource_name"
   ]
  },
  {
   "cell_type": "code",
   "execution_count": 70,
   "metadata": {},
   "outputs": [
    {
     "data": {
      "text/plain": [
       "{'appName': '8665884457200254976',\n",
       " 'lastUpdateTime': 1750464115.200907,\n",
       " 'userId': 'u_123',\n",
       " 'state': {},\n",
       " 'events': [],\n",
       " 'id': '4254349687202512896'}"
      ]
     },
     "execution_count": 70,
     "metadata": {},
     "output_type": "execute_result"
    }
   ],
   "source": [
    "remote_session = remote_app.create_session(user_id=\"u_123\")\n",
    "remote_session"
   ]
  },
  {
   "cell_type": "code",
   "execution_count": 72,
   "metadata": {},
   "outputs": [
    {
     "name": "stdout",
     "output_type": "stream",
     "text": [
      "{'content': {'parts': [{'text': \"Here is a summary of the information you provided:\\n\\nPatient name: Scarlett\\nPatient age: 10 years old\\nSurgery type: Tonsillectomy\\nWhen surgery happened: 5 days ago\\nCurrent location: Out of town, visiting cousins\\nBleeding reported: No\\nBreathing OK: Yes\\nDistance from surgical hospital: 45 minutes\\nDistance from the nearest hospital: 20 minutes\\nWhen the patient last ate: This afternoon\\nDrink amount in the past day: 1.5 cups\\nLips chapped/appearance: Lips are not chapped.\\nActing like themselves or not: Not acting like themselves—complaining a lot.\\nPain is preventing them from eating and drinking: No\\nNausea or vomiting: No\\nFever or not: No fever\\nPain or not: Yes\\nIf pain, pain location: Throat\\nIf pain, pain management regimen: Ibuprofen\\nBloody sputum or not: No\\nHealing issues or not: Yes\\nIf there is healing issues, how the throat looks: White patches only.\\nIf there is healing issues, what else you see: Yellowish coating on tongue/mouth.\\nIf there is healing issues, discoloration of the tongue or not: Yes\\nBreathing issues or not: No\\nAnything else that you want to report: The patient's mouth smells really bad and he says it tastes gross. The patient is annoyed and avoidant and not acting normal.\\n\\n\"}, {'function_call': {'id': 'adk-197fef48-0ed9-4165-ad15-e51cdf3a4572', 'args': {'patient_summary': \"Scarlett, 10 years old, had a tonsillectomy 5 days ago and is currently visiting cousins out of town. The parent reports that the son's mouth smells really bad and he says it tastes gross. The patient does not report bleeding. The distance from the surgical hospital is 45 minutes and from the nearest hospital is 20 minutes. The patient last ate this afternoon and drank 1.5 cups of fluids in the past day. Lips are not chapped. The patient is not acting like themselves—complaining a lot. Pain is not limiting intake. The patient is not experiencing nausea or vomiting and has no fevers. Pain is reported in the throat. There is no ear pain. The patient has a sore throat. Pain is managed with ibuprofen. Medications are not being alternated and they have not run out. Pain is not impacting intake. There is no bloody sputum. The throat has white patches only. The tongue/mouth has a yellowish coating. There is no breathing history and no cyanosis. The patient is annoyed and avoidant and not acting normal.\"}, 'name': 'predict_triage'}}], 'role': 'model'}, 'usage_metadata': {'candidates_token_count': 521, 'candidates_tokens_details': [{'modality': 'TEXT', 'token_count': 521}], 'prompt_token_count': 2003, 'prompt_tokens_details': [{'modality': 'TEXT', 'token_count': 2003}], 'thoughts_token_count': 1317, 'total_token_count': 3841, 'traffic_type': 'ON_DEMAND'}, 'invocation_id': 'e-6734f6d3-b903-4c7a-86c7-2a88e7b7fe43', 'author': 'triage_agent', 'actions': {'state_delta': {}, 'artifact_delta': {}, 'requested_auth_configs': {}}, 'long_running_tool_ids': [], 'id': 'wUu0iowc', 'timestamp': 1750464724.512866}\n"
     ]
    }
   ],
   "source": [
    "for event in remote_app.stream_query(\n",
    "    user_id=\"u_123\",\n",
    "    session_id=remote_session[\"id\"],\n",
    "    message=\"Scarlett, age 10, had a tonsillectomy 5 days ago and is currently visiting cousins out of town. The parent reports that the son's mouth smells really bad and he says it tastes gross. The patient does not report bleeding. The distance from the surgical hospital is 45 minutes and from the nearest hospital is 20 minutes. The patient last ate this afternoon and drank 1.5 cups of fluids in the past day. Lips are not chapped. The patient is not acting like themselves\\u2014complaining a lot. Pain is not limiting intake. The patient is not experiencing nausea or vomiting and has no fevers. Pain is reported in the throat. There is no ear pain. The patient has a sore throat. Pain is managed with ibuprofen. Medications are not being alternated and they have not run out. Pain is not impacting intake. There is no bloody sputum. The throat has white patches only. The tongue/mouth has a yellowish coating. There is no breathing history and no cyanosis. The patient is annoyed and avoidant and not acting normal.\",\n",
    "):\n",
    "    print(event)"
   ]
  }
 ],
 "metadata": {
  "kernelspec": {
   "display_name": "agent",
   "language": "python",
   "name": "python3"
  },
  "language_info": {
   "codemirror_mode": {
    "name": "ipython",
    "version": 3
   },
   "file_extension": ".py",
   "mimetype": "text/x-python",
   "name": "python",
   "nbconvert_exporter": "python",
   "pygments_lexer": "ipython3",
   "version": "3.13.3"
  }
 },
 "nbformat": 4,
 "nbformat_minor": 2
}
