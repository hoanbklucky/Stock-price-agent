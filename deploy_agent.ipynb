{
 "cells": [
  {
   "cell_type": "markdown",
   "metadata": {},
   "source": [
    "# Run this code to deploy an agent"
   ]
  },
  {
   "cell_type": "code",
   "execution_count": 2,
   "metadata": {},
   "outputs": [],
   "source": [
    "import vertexai\n",
    "from virtual_nurse.agent import root_agent\n",
    "\n",
    "PROJECT_ID = \"virtual-nurse-450613\"\n",
    "LOCATION = \"us-central1\"\n",
    "STAGING_BUCKET = \"gs://deploy-virtual-nurse\"\n",
    "\n",
    "vertexai.init(\n",
    "    project=PROJECT_ID,\n",
    "    location=LOCATION,\n",
    "    staging_bucket=STAGING_BUCKET,\n",
    ")\n",
    "\n",
    "from vertexai.preview import reasoning_engines\n",
    "\n",
    "app = reasoning_engines.AdkApp(\n",
    "    agent=root_agent,\n",
    "    enable_tracing=True,\n",
    ")\n",
    "\n",
    "session = app.create_session(user_id=\"u_123\")"
   ]
  },
  {
   "cell_type": "code",
   "execution_count": 3,
   "metadata": {},
   "outputs": [
    {
     "data": {
      "text/plain": [
       "Session(id='c9339495-3937-4efe-9694-9cedbb5495d8', app_name='default-app-name', user_id='u_123', state={}, events=[], last_update_time=1750540169.2280614)"
      ]
     },
     "execution_count": 3,
     "metadata": {},
     "output_type": "execute_result"
    }
   ],
   "source": [
    "session"
   ]
  },
  {
   "cell_type": "code",
   "execution_count": 4,
   "metadata": {},
   "outputs": [
    {
     "data": {
      "text/plain": [
       "ListSessionsResponse(sessions=[Session(id='c9339495-3937-4efe-9694-9cedbb5495d8', app_name='default-app-name', user_id='u_123', state={}, events=[], last_update_time=1750540169.2280614)])"
      ]
     },
     "execution_count": 4,
     "metadata": {},
     "output_type": "execute_result"
    }
   ],
   "source": [
    "app.list_sessions(user_id=\"u_123\")"
   ]
  },
  {
   "cell_type": "code",
   "execution_count": null,
   "metadata": {},
   "outputs": [],
   "source": [
    "for event in app.stream_query(\n",
    "    user_id=\"u_123\",\n",
    "    session_id=session.id,\n",
    "    message=\"Scarlett, age 10, had a tonsillectomy 5 days ago and is currently visiting cousins out of town. The parent reports that the son's mouth smells really bad and he says it tastes gross. The patient does not report bleeding. The distance from the surgical hospital is 45 minutes and from the nearest hospital is 20 minutes. The patient last ate this afternoon and drank 1.5 cups of fluids in the past day. Lips are not chapped. The patient is not acting like themselves\\u2014complaining a lot. Pain is not limiting intake. The patient is not experiencing nausea or vomiting and has no fevers. Pain is reported in the throat. There is no ear pain. The patient has a sore throat. Pain is managed with ibuprofen. Medications are not being alternated and they have not run out. Pain is not impacting intake. There is no bloody sputum. The throat has white patches only. The tongue/mouth has a yellowish coating. There is no breathing history and no cyanosis. The patient is annoyed and avoidant and not acting normal.\",\n",
    "):\n",
    "    print(event)"
   ]
  },
  {
   "cell_type": "code",
   "execution_count": 4,
   "metadata": {},
   "outputs": [],
   "source": [
    "from vertexai import agent_engines"
   ]
  },
  {
   "cell_type": "code",
   "execution_count": 6,
   "metadata": {},
   "outputs": [
    {
     "name": "stdout",
     "output_type": "stream",
     "text": [
      "Deploying google.adk.agents.Agent as an application.\n",
      "Identified the following requirements: {'cloudpickle': '3.1.1', 'google-cloud-aiplatform': '1.97.0', 'pydantic': '2.11.7'}\n",
      "The following requirements are missing: {'cloudpickle', 'pydantic'}\n",
      "The following requirements are appended: {'pydantic==2.11.7', 'cloudpickle==3.1.1'}\n",
      "The final list of requirements: ['google-cloud-aiplatform[adk,agent_engines]', 'llama-index', 'pydantic==2.11.7', 'cloudpickle==3.1.1']\n",
      "Using bucket deploy-virtual-nurse\n",
      "Wrote to gs://deploy-virtual-nurse/agent_engine/agent_engine.pkl\n",
      "Writing to gs://deploy-virtual-nurse/agent_engine/requirements.txt\n",
      "Creating in-memory tarfile of extra_packages\n",
      "Writing to gs://deploy-virtual-nurse/agent_engine/dependencies.tar.gz\n",
      "Creating AgentEngine\n",
      "Create AgentEngine backing LRO: projects/533873564462/locations/us-central1/reasoningEngines/6714699918641987584/operations/7493935732076052480\n",
      "View progress and logs at https://console.cloud.google.com/logs/query?project=virtual-nurse-450613\n",
      "AgentEngine created. Resource name: projects/533873564462/locations/us-central1/reasoningEngines/6714699918641987584\n",
      "To use this AgentEngine in another session:\n",
      "agent_engine = vertexai.agent_engines.get('projects/533873564462/locations/us-central1/reasoningEngines/6714699918641987584')\n"
     ]
    }
   ],
   "source": [
    "remote_app = agent_engines.create(\n",
    "    agent_engine=root_agent,\n",
    "    requirements=[\n",
    "        \"google-cloud-aiplatform[adk,agent_engines]\", \"llama-index\"  \n",
    "    ],\n",
    "    extra_packages=[\n",
    "        \"virtual_nurse\",  \n",
    "    ]\n",
    ")"
   ]
  },
  {
   "cell_type": "code",
   "execution_count": 7,
   "metadata": {},
   "outputs": [
    {
     "data": {
      "text/plain": [
       "'projects/533873564462/locations/us-central1/reasoningEngines/6714699918641987584'"
      ]
     },
     "execution_count": 7,
     "metadata": {},
     "output_type": "execute_result"
    }
   ],
   "source": [
    "remote_app.resource_name"
   ]
  },
  {
   "cell_type": "code",
   "execution_count": 5,
   "metadata": {},
   "outputs": [
    {
     "name": "stdout",
     "output_type": "stream",
     "text": [
      "Found agent with resource ID: 6714699918641987584\n",
      "Created session for user ID: hoan_123\n",
      "Type 'quit' to exit.\n",
      "User input: \n",
      "Response: Hello! I'm here to help you with concerns about your child's recovery after their tonsillectomy. I need to ask a series of questions to understand the situation fully and provide the best guidance.\n",
      "\n",
      "First, what is your child's name?\n",
      "User input: Scarlett\n",
      "Response: Thank you. What is Scarlett's age?\n",
      "User input: 10\n",
      "Response: Got it. What surgery did Scarlett have?\n",
      "User input: had a tonsillectomy 5 days ago and is currently visiting cousins out of town. The parent reports that the son's mouth smells really bad and he says it tastes gross. The patient does not report bleeding. The distance from the surgical hospital is 45 minutes and from the nearest hospital is 20 minutes. The patient last ate this afternoon and drank 1.5 cups of fluids in the past day. Lips are not chapped. The patient is not acting like themselves\\u2014complaining a lot. Pain is not limiting intake. The patient is not experiencing nausea or vomiting and has no fevers. Pain is reported in the throat. There is no ear pain. The patient has a sore throat. Pain is managed with ibuprofen. Medications are not being alternated and they have not run out. Pain is not impacting intake. There is no bloody sputum. The throat has white patches only. The tongue/mouth has a yellowish coating. There is no breathing history and no cyanosis. The patient is annoyed and avoidant and not acting normal.\n",
      "Response: Thank you for providing that information. Here is a summary of what I have gathered:\n",
      "\n",
      "Patient name: Scarlett\n",
      "Patient age: 10 years old\n",
      "Surgery type: Tonsillectomy\n",
      "When surgery happened: 5 days ago\n",
      "Current location: Out of town\n",
      "Bleeding reported: No\n",
      "Breathing OK: Yes\n",
      "Distance from surgical hospital: 45 minutes\n",
      "Distance from the nearest hospital: 20 minutes\n",
      "Drink amount in the past day: 1.5 cups\n",
      "Lips chapped/appearance: Lips are not chapped.\n",
      "Pain is preventing them from eating and drinking: No\n",
      "Nausea or vomiting: No\n",
      "Fever or not: No fever\n",
      "Pain or not: Yes\n",
      "If pain, pain location: Throat\n",
      "If pain, pain management regimen: Ibuprofen\n",
      "Bloody sputum or not: No\n",
      "Healing issues or not: Yes\n",
      "If there is healing issues, how the throat looks: White patches only\n",
      "If there is healing issues, what else you see: Yellowish coating on tongue/mouth, bad smell and taste.\n",
      "If there is healing issues, discoloration of the tongue or not: Yes\n",
      "Breathing issues or not: No\n",
      "Anything else that you want to report: The patient is annoyed and avoidant and not acting normal.\n",
      "\n",
      "Now, I will use this information to predict the triage disposition and provide a clinical plan.\n",
      "User input: \n",
      "Response: Here is the predicted triage disposition and clinical plan:\n",
      "\n",
      "**Triage Disposition:** Stay at home\n",
      "\n",
      "**Notes for Clinical Plan:** The patient is showing signs of a normal recovery process after a tonsillectomy, including white patches in the throat (scabs), bad breath, and a yellowish coating on the tongue. These are all common and expected findings. The pain is managed, and there are no red flag symptoms like bleeding, fever, or breathing difficulties. Encourage fluid intake and continue with the current pain management plan. The changes in behavior (being annoyed and avoidant) are likely due to the discomfort and healing process. Reassurance and comfort care are key.\n",
      "\n",
      "**Confidence Score:** 0.75\n",
      "User input: ok\n",
      "Response: Is there anything else I can help you with today?\n",
      "User input: so what is the deposition and notes for clinical plan?\n",
      "Response: Of course. Based on the information you provided, here is the recommended plan:\n",
      "\n",
      "**Triage Disposition:** Stay at home\n",
      "\n",
      "**Notes for Clinical Plan:** The patient is showing signs of a normal recovery process after a tonsillectomy. The white patches in the throat are scabs, and the bad breath and yellowish coating on the tongue are all common and expected. Since the pain is managed and there are no concerning symptoms like bleeding, fever, or breathing problems, the recommendation is to continue with the current care at home. Encourage Scarlett to drink plenty of fluids and continue with the ibuprofen for pain. The changes in her behavior are likely due to the discomfort of healing.\n",
      "\n",
      "Do you have any questions about this plan?\n",
      "User input: ok how about triage deposition?\n",
      "Response: The triage disposition is to **Stay at home**.\n",
      "\n",
      "This means that based on the symptoms you've described, Scarlett does not need to be seen by a doctor in person at this time and can continue to recover where she is.\n",
      "User input: quit\n",
      "Deleted session for user ID: hoan_123\n"
     ]
    }
   ],
   "source": [
    "resource_id = \"6714699918641987584\"\n",
    "user_id = \"hoan_123\"\n",
    "agent = agent_engines.get(resource_id)\n",
    "print(f\"Found agent with resource ID: {resource_id}\")\n",
    "session = agent.create_session(user_id=user_id)\n",
    "print(f\"Created session for user ID: {user_id}\")\n",
    "print(\"Type 'quit' to exit.\")\n",
    "while True:\n",
    "    user_input = input(\"Input: \")\n",
    "    print(f\"User input: {user_input}\")\n",
    "    if user_input == \"quit\":\n",
    "        break\n",
    "\n",
    "    for event in agent.stream_query(\n",
    "        user_id=user_id, session_id=session[\"id\"], message=user_input\n",
    "    ):\n",
    "        if \"content\" in event:\n",
    "            if \"parts\" in event[\"content\"]:\n",
    "                parts = event[\"content\"][\"parts\"]\n",
    "                for part in parts:\n",
    "                    if \"text\" in part:\n",
    "                        text_part = part[\"text\"]\n",
    "                        print(f\"Response: {text_part}\")\n",
    "\n",
    "agent.delete_session(user_id=user_id, session_id=session[\"id\"])\n",
    "print(f\"Deleted session for user ID: {user_id}\")"
   ]
  },
  {
   "cell_type": "code",
   "execution_count": 8,
   "metadata": {},
   "outputs": [
    {
     "data": {
      "text/plain": [
       "{'appName': '6714699918641987584',\n",
       " 'id': '6717818683374174208',\n",
       " 'state': {},\n",
       " 'userId': 'u_123',\n",
       " 'events': [],\n",
       " 'lastUpdateTime': 1750541275.465684}"
      ]
     },
     "execution_count": 8,
     "metadata": {},
     "output_type": "execute_result"
    }
   ],
   "source": [
    "remote_session = remote_app.create_session(user_id=\"u_123\")\n",
    "remote_session"
   ]
  },
  {
   "cell_type": "code",
   "execution_count": null,
   "metadata": {},
   "outputs": [],
   "source": []
  },
  {
   "cell_type": "code",
   "execution_count": 72,
   "metadata": {},
   "outputs": [
    {
     "name": "stdout",
     "output_type": "stream",
     "text": [
      "{'content': {'parts': [{'text': \"Here is a summary of the information you provided:\\n\\nPatient name: Scarlett\\nPatient age: 10 years old\\nSurgery type: Tonsillectomy\\nWhen surgery happened: 5 days ago\\nCurrent location: Out of town, visiting cousins\\nBleeding reported: No\\nBreathing OK: Yes\\nDistance from surgical hospital: 45 minutes\\nDistance from the nearest hospital: 20 minutes\\nWhen the patient last ate: This afternoon\\nDrink amount in the past day: 1.5 cups\\nLips chapped/appearance: Lips are not chapped.\\nActing like themselves or not: Not acting like themselves—complaining a lot.\\nPain is preventing them from eating and drinking: No\\nNausea or vomiting: No\\nFever or not: No fever\\nPain or not: Yes\\nIf pain, pain location: Throat\\nIf pain, pain management regimen: Ibuprofen\\nBloody sputum or not: No\\nHealing issues or not: Yes\\nIf there is healing issues, how the throat looks: White patches only.\\nIf there is healing issues, what else you see: Yellowish coating on tongue/mouth.\\nIf there is healing issues, discoloration of the tongue or not: Yes\\nBreathing issues or not: No\\nAnything else that you want to report: The patient's mouth smells really bad and he says it tastes gross. The patient is annoyed and avoidant and not acting normal.\\n\\n\"}, {'function_call': {'id': 'adk-197fef48-0ed9-4165-ad15-e51cdf3a4572', 'args': {'patient_summary': \"Scarlett, 10 years old, had a tonsillectomy 5 days ago and is currently visiting cousins out of town. The parent reports that the son's mouth smells really bad and he says it tastes gross. The patient does not report bleeding. The distance from the surgical hospital is 45 minutes and from the nearest hospital is 20 minutes. The patient last ate this afternoon and drank 1.5 cups of fluids in the past day. Lips are not chapped. The patient is not acting like themselves—complaining a lot. Pain is not limiting intake. The patient is not experiencing nausea or vomiting and has no fevers. Pain is reported in the throat. There is no ear pain. The patient has a sore throat. Pain is managed with ibuprofen. Medications are not being alternated and they have not run out. Pain is not impacting intake. There is no bloody sputum. The throat has white patches only. The tongue/mouth has a yellowish coating. There is no breathing history and no cyanosis. The patient is annoyed and avoidant and not acting normal.\"}, 'name': 'predict_triage'}}], 'role': 'model'}, 'usage_metadata': {'candidates_token_count': 521, 'candidates_tokens_details': [{'modality': 'TEXT', 'token_count': 521}], 'prompt_token_count': 2003, 'prompt_tokens_details': [{'modality': 'TEXT', 'token_count': 2003}], 'thoughts_token_count': 1317, 'total_token_count': 3841, 'traffic_type': 'ON_DEMAND'}, 'invocation_id': 'e-6734f6d3-b903-4c7a-86c7-2a88e7b7fe43', 'author': 'triage_agent', 'actions': {'state_delta': {}, 'artifact_delta': {}, 'requested_auth_configs': {}}, 'long_running_tool_ids': [], 'id': 'wUu0iowc', 'timestamp': 1750464724.512866}\n"
     ]
    }
   ],
   "source": [
    "for event in remote_app.stream_query(\n",
    "    user_id=\"u_123\",\n",
    "    session_id=remote_session[\"id\"],\n",
    "    message=\"\"\"Scarlett, age 10, had a tonsillectomy 5 days ago and is \n",
    "    currently visiting cousins out of town. The parent reports that the son's \n",
    "    mouth smells really bad and he says it tastes gross. The patient does not \n",
    "    report bleeding. The distance from the surgical hospital is 45 minutes and \n",
    "    from the nearest hospital is 20 minutes. The patient last ate this afternoon \n",
    "    and drank 3 cups of fluids in the past day. Lips are not chapped. The patient \n",
    "    is not acting like themselves,complaining a lot. Pain is not limiting intake. \n",
    "    The patient is not experiencing nausea or vomiting and has no fevers. Pain is reported \n",
    "    in the throat. There is no ear pain. The patient has a sore throat. Pain is \n",
    "    managed with ibuprofen. Medications are not being alternated and they have not \n",
    "    run out. Pain is not impacting intake. There is no bloody sputum. The throat has \n",
    "    white patches only. The tongue/mouth has a yellowish coating. There is no breathing \n",
    "    history and no cyanosis. The patient is annoyed and avoidant and not acting normal.\"\"\",\n",
    "):\n",
    "    print(event)"
   ]
  }
 ],
 "metadata": {
  "kernelspec": {
   "display_name": "agent",
   "language": "python",
   "name": "python3"
  },
  "language_info": {
   "codemirror_mode": {
    "name": "ipython",
    "version": 3
   },
   "file_extension": ".py",
   "mimetype": "text/x-python",
   "name": "python",
   "nbconvert_exporter": "python",
   "pygments_lexer": "ipython3",
   "version": "3.13.3"
  }
 },
 "nbformat": 4,
 "nbformat_minor": 2
}
